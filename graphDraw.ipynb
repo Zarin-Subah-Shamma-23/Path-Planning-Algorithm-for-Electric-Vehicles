{
 "cells": [
  {
   "cell_type": "code",
   "execution_count": 1,
   "metadata": {},
   "outputs": [],
   "source": [
    "import pandas as pd\n",
    "import matplotlib.pyplot as plt"
   ]
  },
  {
   "cell_type": "code",
   "execution_count": 2,
   "metadata": {},
   "outputs": [],
   "source": [
    "pathEdge_length = pd.read_csv('/home/zarin/Desktop/Results/4usu_walmartNorth/last_shortest_path_length.csv')\n",
    "pathEdge_length = pathEdge_length[['simple_model_e', 'travel_time', 'length']]\n",
    "\n",
    "pathEdge_time = pd.read_csv('/home/zarin/Desktop/Results/4usu_walmartNorth/last_shortest_path_time.csv')\n",
    "pathEdge_time = pathEdge_time[['simple_model_e', 'travel_time', 'length']]\n",
    "\n",
    "pathEdge_energy = pd.read_csv('/home/zarin/Desktop/Results/4usu_walmartNorth/last_shortest_path_energy.csv')\n",
    "pathEdge_energy = pathEdge_energy[['simple_model_e', 'travel_time', 'length']]"
   ]
  },
  {
   "cell_type": "code",
   "execution_count": 3,
   "metadata": {},
   "outputs": [
    {
     "data": {
      "text/html": [
       "<div>\n",
       "<style scoped>\n",
       "    .dataframe tbody tr th:only-of-type {\n",
       "        vertical-align: middle;\n",
       "    }\n",
       "\n",
       "    .dataframe tbody tr th {\n",
       "        vertical-align: top;\n",
       "    }\n",
       "\n",
       "    .dataframe thead th {\n",
       "        text-align: right;\n",
       "    }\n",
       "</style>\n",
       "<table border=\"1\" class=\"dataframe\">\n",
       "  <thead>\n",
       "    <tr style=\"text-align: right;\">\n",
       "      <th></th>\n",
       "      <th>Energy</th>\n",
       "      <th>Time</th>\n",
       "      <th>Distance</th>\n",
       "    </tr>\n",
       "  </thead>\n",
       "  <tbody>\n",
       "    <tr>\n",
       "      <th>0</th>\n",
       "      <td>3.307998e+07</td>\n",
       "      <td>1267.0</td>\n",
       "      <td>17082.235</td>\n",
       "    </tr>\n",
       "  </tbody>\n",
       "</table>\n",
       "</div>"
      ],
      "text/plain": [
       "         Energy    Time   Distance\n",
       "0  3.307998e+07  1267.0  17082.235"
      ]
     },
     "execution_count": 3,
     "metadata": {},
     "output_type": "execute_result"
    }
   ],
   "source": [
    "length = pathEdge_length[['simple_model_e', 'travel_time', 'length']].copy()\n",
    "length = length.sum(axis=0) \n",
    "\n",
    "column_names = [\"Energy\", \"Time\", \"Distance\"]\n",
    "length_df = pd.DataFrame(columns = column_names)\n",
    "length_df.to_csv('/home/zarin/Desktop/Route_Prediction/pathEdgeSumLength.csv')\n",
    "length_df.loc[len(length_df)] = length.values\n",
    "length_df = length_df.drop_duplicates()\n",
    "length_df"
   ]
  },
  {
   "cell_type": "code",
   "execution_count": 4,
   "metadata": {},
   "outputs": [
    {
     "data": {
      "text/html": [
       "<div>\n",
       "<style scoped>\n",
       "    .dataframe tbody tr th:only-of-type {\n",
       "        vertical-align: middle;\n",
       "    }\n",
       "\n",
       "    .dataframe tbody tr th {\n",
       "        vertical-align: top;\n",
       "    }\n",
       "\n",
       "    .dataframe thead th {\n",
       "        text-align: right;\n",
       "    }\n",
       "</style>\n",
       "<table border=\"1\" class=\"dataframe\">\n",
       "  <thead>\n",
       "    <tr style=\"text-align: right;\">\n",
       "      <th></th>\n",
       "      <th>Energy</th>\n",
       "      <th>Time</th>\n",
       "      <th>Distance</th>\n",
       "    </tr>\n",
       "  </thead>\n",
       "  <tbody>\n",
       "    <tr>\n",
       "      <th>0</th>\n",
       "      <td>4.748030e+07</td>\n",
       "      <td>1301.1</td>\n",
       "      <td>20268.661</td>\n",
       "    </tr>\n",
       "  </tbody>\n",
       "</table>\n",
       "</div>"
      ],
      "text/plain": [
       "         Energy    Time   Distance\n",
       "0  4.748030e+07  1301.1  20268.661"
      ]
     },
     "execution_count": 4,
     "metadata": {},
     "output_type": "execute_result"
    }
   ],
   "source": [
    "time = pathEdge_time[['simple_model_e', 'travel_time', 'length']].copy()\n",
    "time = time.sum(axis=0) \n",
    "\n",
    "column_names = [\"Energy\", \"Time\", \"Distance\"]\n",
    "time_df = pd.DataFrame(columns = column_names)\n",
    "time_df.to_csv('/home/zarin/Desktop/Route_Prediction/pathEdgeSumTime.csv')\n",
    "time_df.loc[len(time_df)] = time.values\n",
    "time_df = time_df.drop_duplicates()\n",
    "time_df"
   ]
  },
  {
   "cell_type": "code",
   "execution_count": 5,
   "metadata": {},
   "outputs": [
    {
     "data": {
      "text/html": [
       "<div>\n",
       "<style scoped>\n",
       "    .dataframe tbody tr th:only-of-type {\n",
       "        vertical-align: middle;\n",
       "    }\n",
       "\n",
       "    .dataframe tbody tr th {\n",
       "        vertical-align: top;\n",
       "    }\n",
       "\n",
       "    .dataframe thead th {\n",
       "        text-align: right;\n",
       "    }\n",
       "</style>\n",
       "<table border=\"1\" class=\"dataframe\">\n",
       "  <thead>\n",
       "    <tr style=\"text-align: right;\">\n",
       "      <th></th>\n",
       "      <th>Energy</th>\n",
       "      <th>Time</th>\n",
       "      <th>Distance</th>\n",
       "    </tr>\n",
       "  </thead>\n",
       "  <tbody>\n",
       "    <tr>\n",
       "      <th>0</th>\n",
       "      <td>3.185422e+07</td>\n",
       "      <td>1307.4</td>\n",
       "      <td>17104.242</td>\n",
       "    </tr>\n",
       "  </tbody>\n",
       "</table>\n",
       "</div>"
      ],
      "text/plain": [
       "         Energy    Time   Distance\n",
       "0  3.185422e+07  1307.4  17104.242"
      ]
     },
     "execution_count": 5,
     "metadata": {},
     "output_type": "execute_result"
    }
   ],
   "source": [
    "energy = pathEdge_energy[['simple_model_e', 'travel_time', 'length']].copy()\n",
    "energy = energy.sum(axis=0) \n",
    "\n",
    "column_names = [\"Energy\", \"Time\", \"Distance\"]\n",
    "energy_df = pd.DataFrame(columns = column_names)\n",
    "energy_df.to_csv('/home/zarin/Desktop/Route_Prediction/pathEdgeSumEnergy.csv')\n",
    "energy_df.loc[len(energy_df)] = energy.values\n",
    "energy_df = energy_df.drop_duplicates()\n",
    "energy_df"
   ]
  },
  {
   "cell_type": "code",
   "execution_count": 6,
   "metadata": {},
   "outputs": [
    {
     "data": {
      "text/html": [
       "<div>\n",
       "<style scoped>\n",
       "    .dataframe tbody tr th:only-of-type {\n",
       "        vertical-align: middle;\n",
       "    }\n",
       "\n",
       "    .dataframe tbody tr th {\n",
       "        vertical-align: top;\n",
       "    }\n",
       "\n",
       "    .dataframe thead th {\n",
       "        text-align: right;\n",
       "    }\n",
       "</style>\n",
       "<table border=\"1\" class=\"dataframe\">\n",
       "  <thead>\n",
       "    <tr style=\"text-align: right;\">\n",
       "      <th></th>\n",
       "      <th></th>\n",
       "      <th>Energy</th>\n",
       "      <th>Time</th>\n",
       "      <th>Distance</th>\n",
       "    </tr>\n",
       "  </thead>\n",
       "  <tbody>\n",
       "    <tr>\n",
       "      <th>0</th>\n",
       "      <td>Energy-efficient</td>\n",
       "      <td>31854219.215049</td>\n",
       "      <td>1307.4</td>\n",
       "      <td>17104.242</td>\n",
       "    </tr>\n",
       "    <tr>\n",
       "      <th>1</th>\n",
       "      <td>Time-efficient</td>\n",
       "      <td>47480304.161072</td>\n",
       "      <td>1301.1</td>\n",
       "      <td>20268.661</td>\n",
       "    </tr>\n",
       "    <tr>\n",
       "      <th>2</th>\n",
       "      <td>Distance-efficient</td>\n",
       "      <td>33079978.564328</td>\n",
       "      <td>1267.0</td>\n",
       "      <td>17082.235</td>\n",
       "    </tr>\n",
       "  </tbody>\n",
       "</table>\n",
       "</div>"
      ],
      "text/plain": [
       "                                Energy    Time   Distance\n",
       "0    Energy-efficient  31854219.215049  1307.4  17104.242\n",
       "1      Time-efficient  47480304.161072  1301.1  20268.661\n",
       "2  Distance-efficient  33079978.564328  1267.0  17082.235"
      ]
     },
     "execution_count": 6,
     "metadata": {},
     "output_type": "execute_result"
    }
   ],
   "source": [
    "column_names = [\"Energy\", \"Time\", \"Distance\"]\n",
    "combined_DF = pd.DataFrame(columns = column_names)\n",
    "data = ['Energy-efficient', 'Time-efficient', 'Distance-efficient']\n",
    "combined_DF.insert(loc=0, column=' ', value=data)\n",
    "\n",
    "combined_DF.loc[0, 'Energy'] = list(energy_df['Energy'].values)[0]\n",
    "combined_DF.loc[0, 'Time'] = list(energy_df['Time'].values)[0]\n",
    "combined_DF.loc[0, 'Distance'] = list(energy_df['Distance'].values)[0]\n",
    "\n",
    "combined_DF.loc[1, 'Energy'] = list(time_df['Energy'].values)[0]\n",
    "combined_DF.loc[1, 'Time'] = list(time_df['Time'].values)[0]\n",
    "combined_DF.loc[1, 'Distance'] = list(time_df['Distance'].values)[0]\n",
    "\n",
    "combined_DF.loc[2, 'Energy'] = list(length_df['Energy'].values)[0]\n",
    "combined_DF.loc[2, 'Time'] = list(length_df['Time'].values)[0]\n",
    "combined_DF.loc[2, 'Distance'] = list(length_df['Distance'].values)[0]\n",
    "\n",
    "combined_DF"
   ]
  },
  {
   "attachments": {},
   "cell_type": "markdown",
   "metadata": {},
   "source": [
    "**2D**"
   ]
  },
  {
   "cell_type": "code",
   "execution_count": 7,
   "metadata": {},
   "outputs": [
    {
     "data": {
      "image/png": "[encoded data removed]",
      "text/plain": [
       "<Figure size 2160x864 with 3 Axes>"
      ]
     },
     "metadata": {
      "needs_background": "light"
     },
     "output_type": "display_data"
    }
   ],
   "source": [
    "fig, ax = plt.subplots(1, 3, figsize=(30, 12))\n",
    "plt.rcParams.update({'font.size': 20})\n",
    "\n",
    "plt.subplot(1, 3, 1)\n",
    "plt.bar(combined_DF[' '], combined_DF['Energy'], color ='maroon', width = 0.4)\n",
    "plt.title('Energy Trade-offs\\n')\n",
    "plt.ylabel('Energy', fontsize=20)\n",
    "plt.xticks(fontsize=20)\n",
    "plt.yticks(fontsize=20)\n",
    "\n",
    "plt.subplot(1, 3, 2)\n",
    "plt.bar(combined_DF[' '], combined_DF['Time'], color ='black', width = 0.4)\n",
    "plt.title('Time Trade-offs\\n')\n",
    "plt.ylabel('Time', fontsize=20)\n",
    "plt.xticks(fontsize=20)\n",
    "plt.yticks(fontsize=20)\n",
    "\n",
    "plt.subplot(1, 3, 3)\n",
    "plt.bar(combined_DF[' '], combined_DF['Distance'], color ='darkolivegreen', width = 0.4)\n",
    "plt.title('Distance Trade-offs\\n')\n",
    "plt.ylabel('Distance', fontsize=20)\n",
    "plt.xticks(fontsize=20)\n",
    "plt.yticks(fontsize=20)\n",
    "\n",
    "plt.show()"
   ]
  }
 ],
 "metadata": {
  "kernelspec": {
   "display_name": "Python 3",
   "language": "python",
   "name": "python3"
  },
  "language_info": {
   "codemirror_mode": {
    "name": "ipython",
    "version": 3
   },
   "file_extension": ".py",
   "mimetype": "text/x-python",
   "name": "python",
   "nbconvert_exporter": "python",
   "pygments_lexer": "ipython3",
   "version": "3.8.10 (default, Nov 14 2022, 12:59:47) \n[GCC 9.4.0]"
  },
  "orig_nbformat": 4,
  "vscode": {
   "interpreter": {
    "hash": "916dbcbb3f70747c44a77c7bcd40155683ae19c65e1c03b4aa3499c5328201f1"
   }
  }
 },
 "nbformat": 4,
 "nbformat_minor": 2
}
